{
 "cells": [
  {
   "cell_type": "markdown",
   "id": "38aa0b69-42d0-4ce5-b5a3-5689d6cd3ba2",
   "metadata": {},
   "source": [
    "# Exercise 1: Elastic rotating bar"
   ]
  },
  {
   "cell_type": "code",
   "execution_count": 1,
   "id": "a3a84b91-4b86-4a61-b13a-eba70deb04c2",
   "metadata": {},
   "outputs": [],
   "source": [
    "from ngsolve import *\n",
    "from netgen.occ import *\n",
    "import ipywidgets as widgets\n",
    "from ngsolve.comp import GlobalSpace\n",
    "from ngsolve.webgui import Draw\n",
    "from ngsolve.solvers import Newton\n",
    "from ngsolve.comp import DifferentialSymbol\n",
    "import numpy as np\n",
    "# ngsglobals.msg_level=10\n",
    "import time"
   ]
  },
  {
   "cell_type": "code",
   "execution_count": 2,
   "id": "00578253-f449-4ff9-ada1-5364405c5159",
   "metadata": {},
   "outputs": [],
   "source": [
    "def curl(gf: GridFunction)->GridFunction:\n",
    "    return CoefficientFunction( (0, 0, grad(gf)[1,0]-grad(gf)[0,1]) )"
   ]
  },
  {
   "cell_type": "code",
   "execution_count": 3,
   "id": "1e0ff78f-349d-48f5-a079-7683b2edf06d",
   "metadata": {},
   "outputs": [],
   "source": [
    "shape = Rectangle(1, 0.1).Face()\n",
    "\n",
    "mesh = Mesh(OCCGeometry(shape, dim=2).GenerateMesh(maxh=0.02))"
   ]
  },
  {
   "cell_type": "code",
   "execution_count": 4,
   "id": "289c7c3d-2935-4cf4-9d64-d7c382d220a2",
   "metadata": {},
   "outputs": [],
   "source": [
    "# density\n",
    "rho = 1\n",
    "\n",
    "mass = rho*Integrate(CF(1)*dx, mesh)\n",
    "\n",
    "# move shape's center of mass to origin\n",
    "center_of_mass = (1/mass*Integrate(rho*x*dx, mesh), 1/mass*Integrate(rho*y*dx, mesh))\n",
    "\n",
    "shape = shape.Move((-center_of_mass[0], -center_of_mass[1], 0))\n",
    "\n",
    "mesh = Mesh(OCCGeometry(shape, dim=2).GenerateMesh(maxh=0.02))\n",
    "\n",
    "# moment_of_inertia = Integrate((x**2 + y**2)*dx, mesh)\n",
    "\n",
    "# SE(3) translation\n",
    "r = list(center_of_mass)\n",
    "r = [0, 0]\n"
   ]
  },
  {
   "cell_type": "code",
   "execution_count": 5,
   "id": "45dab7e2-15a7-4a7a-be37-833e2a0bad44",
   "metadata": {},
   "outputs": [
    {
     "data": {
      "application/vnd.jupyter.widget-view+json": {
       "model_id": "c0dae3e06e814ffea27e6d35f86663c2",
       "version_major": 2,
       "version_minor": 0
      },
      "text/plain": [
       "WebGuiWidget(layout=Layout(height='50vh', width='100%'), value={'gui_settings': {}, 'ngsolve_version': '6.2.25…"
      ]
     },
     "metadata": {},
     "output_type": "display_data"
    },
    {
     "data": {
      "text/plain": [
       "BaseWebGuiScene"
      ]
     },
     "execution_count": 5,
     "metadata": {},
     "output_type": "execute_result"
    }
   ],
   "source": [
    "Draw(mesh)"
   ]
  },
  {
   "cell_type": "markdown",
   "id": "8839b06f-8c34-4d6c-b17f-2f6df496194e",
   "metadata": {},
   "source": [
    "## time-stepping\n",
    "\n",
    "Variables are\n",
    "\n",
    "* position $\\phi = r + R x$, an affine linear function, with constraint $R^T R = I$, i.e. $R$ is orthogonal (and thus, by continuity, a rotation matrix)\n",
    "* velocity $v = a + b \\wedge x$, in body-frame"
   ]
  },
  {
   "cell_type": "code",
   "execution_count": 6,
   "id": "ddf35ef1-9862-412b-87c0-2d3faf7c673d",
   "metadata": {},
   "outputs": [],
   "source": [
    "E, nu = 100, 0.2\n",
    "mu  = E / 2 / (1+nu)\n",
    "lam = E * nu / ((1+nu)*(1-2*nu))\n",
    "\n",
    "def Stress(strain):\n",
    "    return 2*mu*strain + lam*Trace(strain)*Id(2)"
   ]
  },
  {
   "cell_type": "code",
   "execution_count": 7,
   "id": "415734dd-d9df-4353-bf65-121acd9740f0",
   "metadata": {},
   "outputs": [],
   "source": [
    "tau = 0.00001\n",
    "tend = 0.5\n",
    "\n",
    "# elastic displacement at start\n",
    "u0 = CF((0, 0))\n",
    "# elastic displacement velocity at start\n",
    "v0 = CF((0, (y+100)))  #  10*CF((y, -x))\n",
    "\n",
    "fes = VectorH1(mesh, order=3)\n",
    "u,testf = fes.TnT()\n",
    "aform = InnerProduct(Stress(Sym(Grad(u))), Sym(Grad(testf)))*dx\n",
    "\n",
    "a = BilinearForm(aform).Assemble()\n",
    "mstar = BilinearForm(rho*u*testf*dx + tau**2/4*aform).Assemble()\n",
    "mstarinv = mstar.mat.Inverse(inverse=\"sparsecholesky\")\n",
    "f = LinearForm(fes).Assemble()"
   ]
  },
  {
   "cell_type": "code",
   "execution_count": 8,
   "id": "b147d593-ff62-47e2-958d-457d74f0d78f",
   "metadata": {},
   "outputs": [
    {
     "data": {
      "application/vnd.jupyter.widget-view+json": {
       "model_id": "7cc0e00e4b374c86bcb0bb1d9309b205",
       "version_major": 2,
       "version_minor": 0
      },
      "text/plain": [
       "WebGuiWidget(layout=Layout(height='50vh', width='100%'), value={'gui_settings': {}, 'ngsolve_version': '6.2.25…"
      ]
     },
     "metadata": {},
     "output_type": "display_data"
    },
    {
     "data": {
      "application/vnd.jupyter.widget-view+json": {
       "model_id": "4770e5054e174d46a87e04b13fad762a",
       "version_major": 2,
       "version_minor": 0
      },
      "text/plain": [
       "WebGuiWidget(layout=Layout(height='50vh', width='100%'), value={'gui_settings': {}, 'ngsolve_version': '6.2.25…"
      ]
     },
     "metadata": {},
     "output_type": "display_data"
    },
    {
     "name": "stdout",
     "output_type": "stream",
     "text": [
      "(-1.8245660245250964e-12, 0.001000009999208353)\n",
      "(-1.0926659425349078e-11, 0.0020000399919429587)\n",
      "(-3.450628739448866e-11, 0.0030000899640437693)\n",
      "(-7.960982459191718e-11, 0.004000159892652376)\n",
      "(-1.5305300145210135e-10, 0.005000249746358602)\n",
      "(-2.6134738213075537e-10, 0.006000359485399651)\n",
      "(-4.1063087785208104e-10, 0.007000489061910341)\n",
      "(-6.065982494139863e-10, 0.008000638420222741)\n",
      "(-8.544363873657016e-10, 0.009000807497212535)\n",
      "(-1.1587673365059902e-09, 0.010000996222690068)\n",
      "(-1.5235889050499668e-09, 0.01100120451983228)\n",
      "(-1.9522285857657176e-09, 0.012001432305653014)\n",
      "(-2.4472963130843604e-09, 0.013001679491508034)\n",
      "(-3.010649894669029e-09, 0.014001945983630368)\n",
      "(-3.6433594100102353e-09, 0.015002231683692828)\n",
      "(-4.345684195659779e-09, 0.016002536489392448)\n",
      "(-5.117054890165143e-09, 0.017002860295053625)\n",
      "(-5.956062217998023e-09, 0.018003202992244335)\n",
      "(-6.860453075448953e-09, 0.01900356447040154)\n",
      "(-7.827133002066167e-09, 0.020003944617460703)\n",
      "(-8.852180528851613e-09, 0.02100434332048485)\n",
      "(-9.930861093182695e-09, 0.02200476046628858)\n",
      "(-1.1057654656287634e-08, 0.023005195942052314)\n",
      "(-1.222628645785981e-08, 0.024005649635921878)\n",
      "(-1.3429768173456448e-08, 0.02500612143758979)\n",
      "(-1.4660441150448361e-08, 0.026006611238852576)\n",
      "(-1.5910029783835016e-08, 0.027007118934142295)\n",
      "(-1.7169695089519894e-08, 0.028007644421025372)\n",
      "(-1.8430102531862893e-08, 0.029008187600667642)\n",
      "(-1.9681486009497816e-08, 0.030008748378261264)\n",
      "(-2.0913719538036656e-08, 0.031009326663409973)\n",
      "(-2.2116394789227406e-08, 0.03200992237047049)\n",
      "(-2.3278897833494323e-08, 0.03301053541884847)\n",
      "(-2.439049224484762e-08, 0.03401116573324416)\n",
      "(-2.5440400348012698e-08, 0.03501181324385009)\n",
      "(-2.6417889346637593e-08, 0.03601247788649606)\n",
      "(-2.731235758282438e-08, 0.0370131596027422)\n",
      "(-2.8113417475071722e-08, 0.038013858339919826)\n",
      "(-2.8810981943553688e-08, 0.039014574051118626)\n",
      "(-2.939534566863313e-08, 0.04001530669512226)\n",
      "(-2.9857270099494846e-08, 0.04101605623629205)\n",
      "(-3.0188058243902215e-08, 0.04201682264439999)\n",
      "(-3.0379633224878754e-08, 0.04301760589441253)\n",
      "(-3.0424605979918076e-08, 0.04401840596622831)\n",
      "(-3.0316347076367385e-08, 0.045019222844369974)\n",
      "(-3.0049046176935086e-08, 0.046020056517634474)\n",
      "(-2.9617768963150867e-08, 0.04702090697870436)\n",
      "(-2.901850792481647e-08, 0.04802177422372244)\n",
      "(-2.824822748531327e-08, 0.0490226582518349)\n",
      "(-2.7304900516718278e-08, 0.05002355906470519)\n",
      "(-2.618753981243139e-08, 0.05102447666600338)\n",
      "(-2.4896221619919066e-08, 0.0520254110608755)\n",
      "(-2.3432099941883074e-08, 0.05302636225539685)\n",
      "(-2.179741801213393e-08, 0.05402733025601282)\n",
      "(-1.9995503182900012e-08, 0.05502831506897362)\n",
      "(-1.80307649568651e-08, 0.05602931669976642)\n",
      "(-1.5908677083466848e-08, 0.05703033515254935)\n",
      "(-1.3635754675454678e-08, 0.0580313704295923)\n",
      "(-1.121952318132754e-08, 0.059032422530729343)\n",
      "(-8.668483400433733e-09, 0.06003349145282744)\n",
      "(-5.992063734571698e-09, 0.06103457718927309)\n",
      "(-3.2005704601087104e-09, 0.062035679729487085)\n",
      "(-3.0512640618362186e-10, 0.06303679905846278)\n",
      "(2.6823874390668944e-09, 0.06403793515634153)\n",
      "(5.749407050979521e-09, 0.06503908799801873)\n",
      "(8.88275891047528e-09, 0.06604025755279273)\n",
      "(1.2068735840884423e-08, 0.06704144378405255)\n",
      "(1.5293182900881983e-08, 0.0680426466490119)\n",
      "(1.854158518697442e-08, 0.06904386609848837)\n",
      "(2.1799154066332548e-08, 0.07004510207673167)\n",
      "(2.505092016366192e-08, 0.07104635452130227)\n",
      "(2.8281826023219117e-08, 0.07204762336300001)\n",
      "(3.1476818402063795e-08, 0.073048908525846)\n",
      "(3.462094402110248e-08, 0.0740502099271153)\n",
      "(3.769944073388743e-08, 0.0750515274774225)\n",
      "(4.069783000458964e-08, 0.07605286108085875)\n",
      "(4.360200701671896e-08, 0.07705421063517977)\n",
      "(4.639832629473815e-08, 0.07805557603204256)\n",
      "(4.907368917044675e-08, 0.07905695715729033)\n",
      "(5.161562037346207e-08, 0.08005835389128413)\n",
      "(5.4012347058308917e-08, 0.08105976610927582)\n",
      "(5.625286595353251e-08, 0.08206119368182352)\n",
      "(5.832701545748375e-08, 0.08306263647524322)\n",
      "(6.022552971778147e-08, 0.084064094352096)\n",
      "(6.19400949355576e-08, 0.08506556717170506)\n",
      "(6.346339588952097e-08, 0.08606705479069916)\n",
      "(6.478915596673454e-08, 0.08706855706357956)\n",
      "(6.591217128896285e-08, 0.08807007384330526)\n",
      "(6.682833428254969e-08, 0.08907160498189144)\n",
      "(6.753465290321996e-08, 0.09007315033101826)\n",
      "(6.802926153447991e-08, 0.09107470974264478)\n",
      "(6.831142203265249e-08, 0.0920762830696223)\n",
      "(6.83815204819958e-08, 0.09307787016630255)\n",
      "(6.824105166255829e-08, 0.0940794708891407)\n",
      "(6.789260244887505e-08, 0.0950810850972778)\n",
      "(6.733982301613316e-08, 0.0960827126531131)\n",
      "(6.658739008720876e-08, 0.09708435342284705)\n",
      "(6.564096805222852e-08, 0.09808600727700144)\n",
      "(6.450716196406857e-08, 0.09908767409090696)\n",
      "(6.31934588877605e-08, 0.10008935374515801)\n",
      "(6.170817498180287e-08, 0.1010910461260262)\n",
      "(6.006038533144276e-08, 0.10209275112583559)\n",
      "(5.825985680891413e-08, 0.10309446864329176)\n",
      "(5.631697356259212e-08, 0.10409619858376411)\n",
      "(5.424266265834237e-08, 0.10509794085951993)\n",
      "(5.2048309980533466e-08, 0.1060996953899035)\n",
      "(4.974567845852751e-08, 0.10710146210146806)\n",
      "(4.734682714806416e-08, 0.10810324092804768)\n",
      "(4.486402157248434e-08, 0.10910503181077912)\n"
     ]
    },
    {
     "ename": "KeyboardInterrupt",
     "evalue": "",
     "output_type": "error",
     "traceback": [
      "\u001b[0;31m---------------------------------------------------------------------------\u001b[0m",
      "\u001b[0;31mKeyboardInterrupt\u001b[0m                         Traceback (most recent call last)",
      "Cell \u001b[0;32mIn[8], line 26\u001b[0m\n\u001b[1;32m     23\u001b[0m gfu\u001b[38;5;241m.\u001b[39mvec\u001b[38;5;241m.\u001b[39mdata \u001b[38;5;241m+\u001b[39m\u001b[38;5;241m=\u001b[39m tau\u001b[38;5;241m/\u001b[39m\u001b[38;5;241m2\u001b[39m \u001b[38;5;241m*\u001b[39m gfv\u001b[38;5;241m.\u001b[39mvec\n\u001b[1;32m     25\u001b[0m \u001b[38;5;66;03m# fit in rigid body translation\u001b[39;00m\n\u001b[0;32m---> 26\u001b[0m \u001b[43mgf_deform\u001b[49m\u001b[38;5;241;43m.\u001b[39;49m\u001b[43mSet\u001b[49m\u001b[43m(\u001b[49m\u001b[43mCF\u001b[49m\u001b[43m(\u001b[49m\u001b[43m(\u001b[49m\u001b[43mx\u001b[49m\u001b[43m,\u001b[49m\u001b[43m \u001b[49m\u001b[43my\u001b[49m\u001b[43m)\u001b[49m\u001b[43m)\u001b[49m\u001b[43m \u001b[49m\u001b[38;5;241;43m+\u001b[39;49m\u001b[43m \u001b[49m\u001b[43mgfu\u001b[49m\u001b[43m)\u001b[49m\n\u001b[1;32m     27\u001b[0m center_of_mass \u001b[38;5;241m=\u001b[39m (\u001b[38;5;241m1\u001b[39m\u001b[38;5;241m/\u001b[39mmass\u001b[38;5;241m*\u001b[39mIntegrate(rho\u001b[38;5;241m*\u001b[39m(x \u001b[38;5;241m+\u001b[39m gfu[\u001b[38;5;241m0\u001b[39m])\u001b[38;5;241m*\u001b[39mNorm(Det(Grad(gf_deform)))\u001b[38;5;241m*\u001b[39mdx, mesh), \u001b[38;5;241m1\u001b[39m\u001b[38;5;241m/\u001b[39mmass\u001b[38;5;241m*\u001b[39mIntegrate(rho\u001b[38;5;241m*\u001b[39m(y \u001b[38;5;241m+\u001b[39m gfu[\u001b[38;5;241m1\u001b[39m])\u001b[38;5;241m*\u001b[39mNorm(Det(Grad(gf_deform)))\u001b[38;5;241m*\u001b[39mdx, mesh))\n\u001b[1;32m     28\u001b[0m \u001b[38;5;28mprint\u001b[39m(center_of_mass)\n",
      "\u001b[0;31mKeyboardInterrupt\u001b[0m: "
     ]
    }
   ],
   "source": [
    "# gfu is displacement?!\n",
    "gfu = GridFunction(fes)\n",
    "gfv = GridFunction(fes)\n",
    "# deformation from displacement\n",
    "gf_deform = GridFunction(fes)\n",
    "\n",
    "gfu.Set(u0)\n",
    "gfv.Set(v0)\n",
    "\n",
    "gf_graphical = GridFunction(fes)\n",
    "scene = Draw (gf_graphical, deformation=True, order=3)\n",
    "\n",
    "# function for debug plot\n",
    "gfcentrif = GridFunction(fes)\n",
    "fcentrif = Draw (gfcentrif, order=3)\n",
    "\n",
    "# pseudo-Newmark (sloppy force calculation)\n",
    "for j in range(int(tend/tau)):\n",
    "    # centrifugal force\n",
    "    f = LinearForm(rho*Cross(curl(gfv), Cross(curl(gfv), CF((x, y, z))))[0:2]*testf*dx).Assemble()\n",
    "    \n",
    "    gfu.vec.data += tau/2 * gfv.vec\n",
    "    gfv.vec.data += tau * mstarinv * (f.vec - a.mat * gfu.vec)\n",
    "    gfu.vec.data += tau/2 * gfv.vec\n",
    "\n",
    "    # fit in rigid body translation\n",
    "    gf_deform.Set(CF((x, y)) + gfu)\n",
    "    center_of_mass = (1/mass*Integrate(rho*(x + gfu[0])*Norm(Det(Grad(gf_deform)))*dx, mesh), 1/mass*Integrate(rho*(y + gfu[1])*Norm(Det(Grad(gf_deform)))*dx, mesh))\n",
    "    print(center_of_mass)\n",
    "    r[0] += center_of_mass[0]\n",
    "    r[1] += center_of_mass[1]\n",
    "    # gfu.Set(gfu - CF(center_of_mass))\n",
    "\n",
    "    gf_graphical.Set(gfu) # CF((r[0], r[1])) + \n",
    "\n",
    "    scene.Redraw()\n",
    "    \n",
    "    gfcentrif.Set(gfu*Norm(Det(Grad(gfu))))\n",
    "    fcentrif.Redraw()\n",
    "    \n",
    "    time.sleep(0.1)\n"
   ]
  },
  {
   "cell_type": "code",
   "execution_count": null,
   "id": "5748da18-355d-4e02-beba-130efa679745",
   "metadata": {},
   "outputs": [],
   "source": [
    "help(mesh.SetDeformation)"
   ]
  },
  {
   "cell_type": "code",
   "execution_count": null,
   "id": "17da7524-40dc-4550-aa01-fcabe22a2008",
   "metadata": {},
   "outputs": [],
   "source": []
  }
 ],
 "metadata": {
  "kernelspec": {
   "display_name": "Python 3 (ipykernel)",
   "language": "python",
   "name": "python3"
  },
  "language_info": {
   "codemirror_mode": {
    "name": "ipython",
    "version": 3
   },
   "file_extension": ".py",
   "mimetype": "text/x-python",
   "name": "python",
   "nbconvert_exporter": "python",
   "pygments_lexer": "ipython3",
   "version": "3.13.3"
  }
 },
 "nbformat": 4,
 "nbformat_minor": 5
}
