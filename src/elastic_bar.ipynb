{
 "cells": [
  {
   "cell_type": "markdown",
   "id": "38aa0b69-42d0-4ce5-b5a3-5689d6cd3ba2",
   "metadata": {},
   "source": [
    "# Exercise 1: Elastic rotating bar"
   ]
  },
  {
   "cell_type": "code",
   "execution_count": 1,
   "id": "a3a84b91-4b86-4a61-b13a-eba70deb04c2",
   "metadata": {},
   "outputs": [],
   "source": [
    "from ngsolve import *\n",
    "from netgen.occ import *\n",
    "import ipywidgets as widgets\n",
    "from ngsolve.comp import GlobalSpace\n",
    "from ngsolve.webgui import Draw\n",
    "from ngsolve.solvers import Newton\n",
    "from ngsolve.comp import DifferentialSymbol\n",
    "import numpy as np\n",
    "# ngsglobals.msg_level=10\n",
    "import time"
   ]
  },
  {
   "cell_type": "code",
   "execution_count": 2,
   "id": "00578253-f449-4ff9-ada1-5364405c5159",
   "metadata": {},
   "outputs": [],
   "source": [
    "def curl(gf: GridFunction)->GridFunction:\n",
    "    return CoefficientFunction( (0, 0, grad(gf)[1,0]-grad(gf)[0,1]) )"
   ]
  },
  {
   "cell_type": "code",
   "execution_count": 3,
   "id": "1e0ff78f-349d-48f5-a079-7683b2edf06d",
   "metadata": {},
   "outputs": [],
   "source": [
    "shape = Rectangle(1, 0.1).Face()\n",
    "\n",
    "mesh = Mesh(OCCGeometry(shape, dim=2).GenerateMesh(maxh=0.02))"
   ]
  },
  {
   "cell_type": "code",
   "execution_count": 4,
   "id": "289c7c3d-2935-4cf4-9d64-d7c382d220a2",
   "metadata": {},
   "outputs": [],
   "source": [
    "# density\n",
    "rho = 1\n",
    "\n",
    "mass = rho*Integrate(CF(1)*dx, mesh)\n",
    "\n",
    "# move shape's center of mass to origin; set start translation accordingly\n",
    "center_of_mass = (1/mass*Integrate(rho*x*dx, mesh), 1/mass*Integrate(rho*y*dx, mesh))\n",
    "\n",
    "shape = shape.Move((-center_of_mass[0], -center_of_mass[1], 0))\n",
    "# shape += Circle((0, 0), 0.1).Face()\n",
    "mesh = Mesh(OCCGeometry(shape, dim=2).GenerateMesh(maxh=0.02))\n",
    "\n",
    "# moment_of_inertia = Integrate((x**2 + y**2)*dx, mesh)\n",
    "\n",
    "r = list(center_of_mass)\n",
    "r = [0, 0]\n"
   ]
  },
  {
   "cell_type": "code",
   "execution_count": 5,
   "id": "45dab7e2-15a7-4a7a-be37-833e2a0bad44",
   "metadata": {},
   "outputs": [
    {
     "data": {
      "application/vnd.jupyter.widget-view+json": {
       "model_id": "2b0ebd8699f845c0b30c1cf84510b3e3",
       "version_major": 2,
       "version_minor": 0
      },
      "text/plain": [
       "WebGuiWidget(layout=Layout(height='50vh', width='100%'), value={'gui_settings': {}, 'ngsolve_version': '6.2.25…"
      ]
     },
     "metadata": {},
     "output_type": "display_data"
    },
    {
     "data": {
      "text/plain": [
       "BaseWebGuiScene"
      ]
     },
     "execution_count": 5,
     "metadata": {},
     "output_type": "execute_result"
    }
   ],
   "source": [
    "Draw(mesh)"
   ]
  },
  {
   "cell_type": "markdown",
   "id": "8839b06f-8c34-4d6c-b17f-2f6df496194e",
   "metadata": {},
   "source": [
    "## time-stepping\n",
    "\n",
    "Variables are\n",
    "\n",
    "* position $\\phi = r + R x$, an affine linear function, with constraint $R^T R = I$, i.e. $R$ is orthogonal (and thus, by continuity, a rotation matrix)\n",
    "* velocity $v = a + b \\wedge x$, in body-frame"
   ]
  },
  {
   "cell_type": "code",
   "execution_count": 6,
   "id": "ddf35ef1-9862-412b-87c0-2d3faf7c673d",
   "metadata": {},
   "outputs": [],
   "source": [
    "E, nu = 100, 0.2\n",
    "mu  = E / 2 / (1+nu)\n",
    "lam = E * nu / ((1+nu)*(1-2*nu))\n",
    "\n",
    "def Stress(strain):\n",
    "    return 2*mu*strain + lam*Trace(strain)*Id(2)"
   ]
  },
  {
   "cell_type": "code",
   "execution_count": 7,
   "id": "415734dd-d9df-4353-bf65-121acd9740f0",
   "metadata": {},
   "outputs": [],
   "source": [
    "tau = 0.00001\n",
    "tend = 0.5\n",
    "u0 = CF((0, 0))\n",
    "v0 =  50*CF((y, -x)) # CF((0, (y+100)))\n",
    "\n",
    "fes = VectorH1(mesh, order=3)\n",
    "u,testf = fes.TnT()\n",
    "aform = InnerProduct(Stress(Sym(Grad(u))), Sym(Grad(testf)))*dx\n",
    "\n",
    "a = BilinearForm(aform).Assemble()\n",
    "mstar = BilinearForm(rho*u*testf*dx + tau**2/4*aform).Assemble()\n",
    "mstarinv = mstar.mat.Inverse(inverse=\"sparsecholesky\")\n",
    "f = LinearForm(fes).Assemble()"
   ]
  },
  {
   "cell_type": "code",
   "execution_count": 8,
   "id": "b147d593-ff62-47e2-958d-457d74f0d78f",
   "metadata": {},
   "outputs": [
    {
     "data": {
      "application/vnd.jupyter.widget-view+json": {
       "model_id": "36f9a6218f434d04aeeea7c17a568201",
       "version_major": 2,
       "version_minor": 0
      },
      "text/plain": [
       "WebGuiWidget(layout=Layout(height='50vh', width='100%'), value={'gui_settings': {}, 'ngsolve_version': '6.2.25…"
      ]
     },
     "metadata": {},
     "output_type": "display_data"
    },
    {
     "name": "stderr",
     "output_type": "stream",
     "text": [
      "/home/norberth/venveria/venvs/sc/lib/python3.13/site-packages/netgen/webgui.py:20: RuntimeWarning: overflow encountered in cast\n",
      "  values = np.array(data.flatten(), dtype=dtype)\n"
     ]
    },
    {
     "ename": "KeyboardInterrupt",
     "evalue": "",
     "output_type": "error",
     "traceback": [
      "\u001b[0;31m---------------------------------------------------------------------------\u001b[0m",
      "\u001b[0;31mKeyboardInterrupt\u001b[0m                         Traceback (most recent call last)",
      "Cell \u001b[0;32mIn[8], line 30\u001b[0m\n\u001b[1;32m     27\u001b[0m \u001b[38;5;66;03m# print(center_of_mass)\u001b[39;00m\n\u001b[1;32m     29\u001b[0m scene\u001b[38;5;241m.\u001b[39mRedraw()\n\u001b[0;32m---> 30\u001b[0m \u001b[43mtime\u001b[49m\u001b[38;5;241;43m.\u001b[39;49m\u001b[43msleep\u001b[49m\u001b[43m(\u001b[49m\u001b[38;5;241;43m0.1\u001b[39;49m\u001b[43m)\u001b[49m\n",
      "\u001b[0;31mKeyboardInterrupt\u001b[0m: "
     ]
    }
   ],
   "source": [
    "gfu = GridFunction(fes)\n",
    "gfv = GridFunction(fes)\n",
    "\n",
    "gfu.Set(u0)\n",
    "# gfv.Set(0.001*CF(((y - shape.center[1]), -(x - shape.center[0]))))\n",
    "gfv.Set(v0)\n",
    "\n",
    "gf_graphical = GridFunction(fes)\n",
    "scene = Draw (gf_graphical, deformation=True, order=3)\n",
    "\n",
    "# pseudo-Newmark (sloppy force calculation)\n",
    "for j in range(int(tend/tau)):\n",
    "    # print(Cross(curl(gfv), Cross(curl(gfv), CF((x, y, z))))[1:2]*testf)\n",
    "    f = LinearForm(rho*Cross(curl(gfv), Cross(curl(gfv), CF((x, y, z))))[0:2]*testf*dx).Assemble()\n",
    "    \n",
    "    gfu.vec.data += tau/2 * gfv.vec\n",
    "    gfv.vec.data += tau * mstarinv * (f.vec - a.mat * gfu.vec)\n",
    "    gfu.vec.data += tau/2 * gfv.vec\n",
    "\n",
    "    # fit in rigid body translation\n",
    "    # center_of_mass = (1/mass*Integrate(rho*gfu[0]*Norm(Det(Grad(gfu)))*dx, mesh), 1/mass*Integrate(rho*gfu[1]*Norm(Det(Grad(gfu)))*dx, mesh))\n",
    "    # r[0] += center_of_mass[0]\n",
    "    # r[1] += center_of_mass[1]\n",
    "    # gfu.Set(gfu - CF(center_of_mass))\n",
    "\n",
    "    gf_graphical.Set(gfu) # CF((r[0], r[1])) + \n",
    "    # print(center_of_mass)\n",
    "\n",
    "    scene.Redraw()\n",
    "    time.sleep(0.1)\n"
   ]
  },
  {
   "cell_type": "code",
   "execution_count": null,
   "id": "5748da18-355d-4e02-beba-130efa679745",
   "metadata": {},
   "outputs": [],
   "source": []
  },
  {
   "cell_type": "code",
   "execution_count": null,
   "id": "2cfcc384-13c3-418d-b396-e19d9bcb9735",
   "metadata": {},
   "outputs": [],
   "source": [
    "help(Circle)"
   ]
  },
  {
   "cell_type": "code",
   "execution_count": null,
   "id": "17da7524-40dc-4550-aa01-fcabe22a2008",
   "metadata": {},
   "outputs": [],
   "source": []
  }
 ],
 "metadata": {
  "kernelspec": {
   "display_name": "Python 3 (ipykernel)",
   "language": "python",
   "name": "python3"
  },
  "language_info": {
   "codemirror_mode": {
    "name": "ipython",
    "version": 3
   },
   "file_extension": ".py",
   "mimetype": "text/x-python",
   "name": "python",
   "nbconvert_exporter": "python",
   "pygments_lexer": "ipython3",
   "version": "3.13.3"
  }
 },
 "nbformat": 4,
 "nbformat_minor": 5
}
