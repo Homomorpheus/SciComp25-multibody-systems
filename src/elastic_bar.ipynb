{
 "cells": [
  {
   "cell_type": "markdown",
   "id": "38aa0b69-42d0-4ce5-b5a3-5689d6cd3ba2",
   "metadata": {},
   "source": [
    "# Exercise 1: Elastic rotating bar"
   ]
  },
  {
   "cell_type": "code",
   "execution_count": 1,
   "id": "a3a84b91-4b86-4a61-b13a-eba70deb04c2",
   "metadata": {},
   "outputs": [],
   "source": [
    "from ngsolve import *\n",
    "from netgen.occ import *\n",
    "import ipywidgets as widgets\n",
    "from ngsolve.comp import GlobalSpace\n",
    "from ngsolve.webgui import Draw\n",
    "from ngsolve.solvers import Newton\n",
    "from ngsolve.comp import DifferentialSymbol\n",
    "import numpy as np\n",
    "# ngsglobals.msg_level=10\n",
    "import time"
   ]
  },
  {
   "cell_type": "code",
   "execution_count": 2,
   "id": "1e0ff78f-349d-48f5-a079-7683b2edf06d",
   "metadata": {},
   "outputs": [
    {
     "data": {
      "application/vnd.jupyter.widget-view+json": {
       "model_id": "24dfd701525546a69463234a806cd398",
       "version_major": 2,
       "version_minor": 0
      },
      "text/plain": [
       "WebGuiWidget(layout=Layout(height='50vh', width='100%'), value={'gui_settings': {}, 'ngsolve_version': '6.2.25…"
      ]
     },
     "metadata": {},
     "output_type": "display_data"
    },
    {
     "data": {
      "text/plain": [
       "BaseWebGuiScene"
      ]
     },
     "execution_count": 2,
     "metadata": {},
     "output_type": "execute_result"
    }
   ],
   "source": [
    "shape = Rectangle(1, 0.1).Face()\n",
    "\n",
    "# move shape's center of mass to origin; set start translation accordingly\n",
    "r = (shape.center[0], shape.center[1])\n",
    "shape = shape.Move((-r[0], -r[1], 0))\n",
    "\n",
    "mesh = Mesh(OCCGeometry(shape, dim=2).GenerateMesh(maxh=0.05))\n",
    "Draw(mesh)"
   ]
  },
  {
   "cell_type": "code",
   "execution_count": 3,
   "id": "289c7c3d-2935-4cf4-9d64-d7c382d220a2",
   "metadata": {},
   "outputs": [],
   "source": [
    "moment_of_inertia = Integrate((x**2 + y**2)*dx, mesh)\n",
    "mass = Integrate(CF(1)*dx, mesh)"
   ]
  },
  {
   "cell_type": "markdown",
   "id": "8839b06f-8c34-4d6c-b17f-2f6df496194e",
   "metadata": {},
   "source": [
    "## time-stepping\n",
    "\n",
    "Variables are\n",
    "\n",
    "* position $\\phi = r + R x$, an affine linear function, with constraint $R^T R = I$, i.e. $R$ is orthogonal (and thus, by continuity, a rotation matrix)\n",
    "* velocity $v = a + b \\wedge x$, in body-frame"
   ]
  },
  {
   "cell_type": "code",
   "execution_count": 4,
   "id": "ddf35ef1-9862-412b-87c0-2d3faf7c673d",
   "metadata": {},
   "outputs": [],
   "source": [
    "E, nu = 210, 0.2\n",
    "mu  = E / 2 / (1+nu)\n",
    "lam = E * nu / ((1+nu)*(1-2*nu))\n",
    "\n",
    "def Stress(strain):\n",
    "    return 2*mu*strain + lam*Trace(strain)*Id(2)  "
   ]
  },
  {
   "cell_type": "code",
   "execution_count": 5,
   "id": "415734dd-d9df-4353-bf65-121acd9740f0",
   "metadata": {},
   "outputs": [],
   "source": [
    "tau = 0.005\n",
    "tend = 2\n",
    "u0 = exp(-400*(x**2 + y**2)) \n",
    "v0 = 0\n",
    "\n",
    "fes = VectorH1(mesh, order=3)\n",
    "u,testf = fes.TnT()\n",
    "aform = InnerProduct(Stress(Sym(Grad(u))), Sym(Grad(testf)))*dx\n",
    "\n",
    "a = BilinearForm(aform).Assemble()\n",
    "mstar = BilinearForm(tau**2/4*aform).Assemble()\n",
    "mstarinv = mstar.mat.Inverse(inverse=\"sparsecholesky\")\n",
    "f = LinearForm(fes).Assemble()"
   ]
  },
  {
   "cell_type": "code",
   "execution_count": 6,
   "id": "b147d593-ff62-47e2-958d-457d74f0d78f",
   "metadata": {},
   "outputs": [
    {
     "data": {
      "application/vnd.jupyter.widget-view+json": {
       "model_id": "eb884307d1794c17a3dd0d73f7fc7bb1",
       "version_major": 2,
       "version_minor": 0
      },
      "text/plain": [
       "WebGuiWidget(layout=Layout(height='50vh', width='100%'), value={'gui_settings': {}, 'ngsolve_version': '6.2.25…"
      ]
     },
     "metadata": {},
     "output_type": "display_data"
    },
    {
     "ename": "KeyboardInterrupt",
     "evalue": "",
     "output_type": "error",
     "traceback": [
      "\u001b[0;31m---------------------------------------------------------------------------\u001b[0m",
      "\u001b[0;31mKeyboardInterrupt\u001b[0m                         Traceback (most recent call last)",
      "Cell \u001b[0;32mIn[6], line 15\u001b[0m\n\u001b[1;32m     12\u001b[0m     gfu\u001b[38;5;241m.\u001b[39mvec\u001b[38;5;241m.\u001b[39mdata \u001b[38;5;241m+\u001b[39m\u001b[38;5;241m=\u001b[39m tau\u001b[38;5;241m/\u001b[39m\u001b[38;5;241m2\u001b[39m \u001b[38;5;241m*\u001b[39m gfv\u001b[38;5;241m.\u001b[39mvec\n\u001b[1;32m     14\u001b[0m     scene\u001b[38;5;241m.\u001b[39mRedraw()\n\u001b[0;32m---> 15\u001b[0m     \u001b[43mtime\u001b[49m\u001b[38;5;241;43m.\u001b[39;49m\u001b[43msleep\u001b[49m\u001b[43m(\u001b[49m\u001b[38;5;241;43m0.5\u001b[39;49m\u001b[43m)\u001b[49m\n\u001b[1;32m     16\u001b[0m scene\u001b[38;5;241m.\u001b[39mRedraw()\n",
      "\u001b[0;31mKeyboardInterrupt\u001b[0m: "
     ]
    }
   ],
   "source": [
    "gfu = GridFunction(fes)\n",
    "gfv = GridFunction(fes)\n",
    "\n",
    "# gfu.Set(u0)\n",
    "gfv.Set(CF(((y - shape.center[1]), -(x - shape.center[0]))))\n",
    "\n",
    "scene = Draw (gfu, deformation=True, order=3)\n",
    "\n",
    "for j in range(int(tend/tau)):\n",
    "    gfu.vec.data += tau/2 * gfv.vec\n",
    "    gfv.vec.data += tau * mstarinv * (f.vec - a.mat * gfu.vec)\n",
    "    gfu.vec.data += tau/2 * gfv.vec\n",
    "\n",
    "    scene.Redraw()\n",
    "    time.sleep(0.5)\n",
    "scene.Redraw()\n"
   ]
  },
  {
   "cell_type": "code",
   "execution_count": null,
   "id": "e90a0915-f471-4379-89b3-d3721e081532",
   "metadata": {},
   "outputs": [],
   "source": []
  },
  {
   "cell_type": "code",
   "execution_count": null,
   "id": "5748da18-355d-4e02-beba-130efa679745",
   "metadata": {},
   "outputs": [],
   "source": []
  }
 ],
 "metadata": {
  "kernelspec": {
   "display_name": "Python 3 (ipykernel)",
   "language": "python",
   "name": "python3"
  },
  "language_info": {
   "codemirror_mode": {
    "name": "ipython",
    "version": 3
   },
   "file_extension": ".py",
   "mimetype": "text/x-python",
   "name": "python",
   "nbconvert_exporter": "python",
   "pygments_lexer": "ipython3",
   "version": "3.13.3"
  }
 },
 "nbformat": 4,
 "nbformat_minor": 5
}
